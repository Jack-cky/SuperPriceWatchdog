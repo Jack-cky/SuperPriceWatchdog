{
 "cells": [
  {
   "cell_type": "code",
   "execution_count": 1,
   "id": "01befd15-c8c1-46dd-bf76-5c77268fd42f",
   "metadata": {},
   "outputs": [],
   "source": [
    "import re\n",
    "\n",
    "import requests\n",
    "import pandas as pd"
   ]
  },
  {
   "cell_type": "code",
   "execution_count": 2,
   "id": "8aa693b2-4832-400b-8884-a0a34f5245dc",
   "metadata": {},
   "outputs": [
    {
     "name": "stdout",
     "output_type": "stream",
     "text": [
      "Online Price Watch: https://online-price-watch.consumer.org.hk/opw/opendata/pricewatch.json\n"
     ]
    }
   ],
   "source": [
    "url = (\n",
    "    \"https://api.data.gov.hk/v1/historical-archive/list-files?\"\n",
    "    \"start=20240101&\"\n",
    "    \"end=20240102&\"\n",
    "    \"category=commerce-and-industry&\"\n",
    "    \"provider=cc&\"\n",
    "    \"format=json&\"\n",
    ")\n",
    "file_list = requests.get(url)\n",
    "file_list = file_list.json()\n",
    "\n",
    "for file in file_list[\"files\"]:\n",
    "    print(f\"{file['dataset-name-en']}: {file['url']}\")"
   ]
  },
  {
   "cell_type": "code",
   "execution_count": 3,
   "id": "43765a32-5909-4a87-9476-a076344a4a61",
   "metadata": {},
   "outputs": [
    {
     "name": "stdout",
     "output_type": "stream",
     "text": [
      "Total of 2 versions: 20240101-0958, 20240102-1012\n"
     ]
    }
   ],
   "source": [
    "url = (\n",
    "    \"https://api.data.gov.hk/v1/historical-archive/list-file-versions?\"\n",
    "    \"url=https://online-price-watch.consumer.org.hk/opw/opendata/pricewatch.json&\"\n",
    "    \"start=20240101&\"\n",
    "    \"end=20240102&\"\n",
    ")\n",
    "file_version = requests.get(url)\n",
    "file_version = file_version.json()\n",
    "\n",
    "print(f\"Total of {file_version['version-count']} versions: {', '.join(file_version['timestamps'])}\")"
   ]
  },
  {
   "cell_type": "code",
   "execution_count": 4,
   "id": "1a029895-3faa-4d86-96ff-f70bf9901e1a",
   "metadata": {},
   "outputs": [
    {
     "name": "stdout",
     "output_type": "stream",
     "text": [
      "Total of 4,675 prices; 1,941 items\n"
     ]
    }
   ],
   "source": [
    "url = (\n",
    "    \"https://api.data.gov.hk/v1/historical-archive/get-file?\"\n",
    "    \"url=https://online-price-watch.consumer.org.hk/opw/opendata/pricewatch.json&\"\n",
    "    f\"time={(file_dt:='20240101-0958')}&\"\n",
    ")\n",
    "file = requests.get(url)\n",
    "file = file.json()\n",
    "\n",
    "price_list, item_list = [], []\n",
    "for item in file:\n",
    "    code = item[\"code\"] = item[\"code\"].upper()\n",
    "    \n",
    "    prices = item.pop(\"prices\")\n",
    "    offers = item.pop(\"offers\")\n",
    "    \n",
    "    price_dict = {\n",
    "        price[\"supermarketCode\"]: price for price in prices\n",
    "    }\n",
    "    offer_dict = {\n",
    "        offer[\"supermarketCode\"]: offer for offer in offers\n",
    "    }\n",
    "    \n",
    "    price = [\n",
    "        {\n",
    "            \"code\": code, \"date\": file_dt,\n",
    "            **price_dict.get(smkt, {}), **offer_dict.get(smkt, {}),\n",
    "        }\n",
    "        for smkt in set(price_dict) | set(offer_dict)\n",
    "    ]\n",
    "    \n",
    "    price_list += price\n",
    "    item_list.append(item)\n",
    "\n",
    "df_price = pd.DataFrame.from_records(price_list)\n",
    "df_item = pd.json_normalize(item_list)\n",
    "\n",
    "print(f\"Total of {len(df_price):,} prices; {len(df_item):,} items\")"
   ]
  },
  {
   "cell_type": "code",
   "execution_count": 5,
   "id": "3d9a8083-83eb-4033-b8f1-e2e86af3c87b",
   "metadata": {},
   "outputs": [
    {
     "name": "stdout",
     "output_type": "stream",
     "text": [
      "Total 6 columns for price; 11 columns for item\n"
     ]
    }
   ],
   "source": [
    "for df in (df_price, df_item):\n",
    "    df.drop(columns=df.filter(regex=\"zh-Hans\").columns, inplace=True)\n",
    "\n",
    "df_price[\"price\"] = df_price[\"price\"].str.extract(r\"([\\d\\.]+)\") \\\n",
    "    .astype(float).fillna(0)\n",
    "df_price[\"date\"] = df_price[\"date\"].str.extract(\"(\\d{8})\")\n",
    "df_price[\"en\"] = df_price[\"en\"].fillna(\"No Promotion\")\n",
    "df_price[\"zh-Hant\"] = df_price[\"zh-Hant\"].fillna(\"No Promotion\")\n",
    "\n",
    "price_metadata = {\n",
    "    \"code\": \"sku\",\n",
    "    \"date\": \"date\",\n",
    "    \"supermarketCode\": \"smkt\",\n",
    "    \"price\": \"price\",\n",
    "    \"en\": \"promo_en\",\n",
    "    \"zh-Hant\": \"promo_zh\",\n",
    "}\n",
    "df_price.rename(columns=price_metadata, inplace=True)\n",
    "\n",
    "item_metadata = {\n",
    "    \"code\": \"sku\",\n",
    "    \"brand.en\": \"brand_en\",\n",
    "    \"brand.zh-Hant\": \"brand_zh\",\n",
    "    \"name.en\": \"name_en\",\n",
    "    \"name.zh-Hant\": \"name_zh\",\n",
    "    \"cat1Name.en\": \"dept_en\",\n",
    "    \"cat1Name.zh-Hant\": \"dept_zh\",\n",
    "    \"cat2Name.en\": \"cat_en\",\n",
    "    \"cat2Name.zh-Hant\": \"cat_zh\",\n",
    "    \"cat3Name.en\": \"subcat_en\",\n",
    "    \"cat3Name.zh-Hant\": \"subcat_zh\",\n",
    "}\n",
    "df_item.rename(columns=item_metadata, inplace=True)\n",
    "\n",
    "print(f\"Total {df_price.shape[1]} columns for price; {df_item.shape[1]} columns for item\")"
   ]
  },
  {
   "cell_type": "code",
   "execution_count": 6,
   "id": "c27ad157-8618-428d-b05c-90f46f8bbe16",
   "metadata": {},
   "outputs": [
    {
     "name": "stdout",
     "output_type": "stream",
     "text": [
      "Total of 0 promotions with AMT and PCT\n",
      "Total of 3 promotions with AMT and NUM\n",
      "Total of 4 promotions with PCT and NUM\n",
      "Total of 1 promotions with 2 NUM\n"
     ]
    }
   ],
   "source": [
    "ops = lambda x: str(x).lower().split(\"/\")\n",
    "promos = list(map(ops, df_price[\"promo_en\"].unique()))\n",
    "\n",
    "promo_cnt = {}\n",
    "for promo in sum(promos, []):\n",
    "    promo = re.sub(r\"\\s\", \"\", promo.strip())\n",
    "    # amount\n",
    "    promo = re.sub(r\"\\$(\\d+\\.?\\d*)\", \"{AMT}\", promo)\n",
    "    # percentage\n",
    "    promo = re.sub(r\"\\d+%\", \"{PCT}\", promo)\n",
    "    # numeric\n",
    "    promo = re.sub(r\"\\d+\", \"{NUM}\", promo)\n",
    "    \n",
    "    promo_cnt[promo] = promo_cnt.get(promo, 0) + 1\n",
    "\n",
    "\n",
    "promo_pat = pd.DataFrame({\n",
    "    \"pat\": promo_cnt.keys(),\n",
    "    \"cnt\": promo_cnt.values(),\n",
    "})\n",
    "promo_pat[\"amt\"] = promo_pat[\"pat\"].str.count(\"{AMT}\")\n",
    "promo_pat[\"pct\"] = promo_pat[\"pat\"].str.count(\"{PCT}\")\n",
    "promo_pat[\"num\"] = promo_pat[\"pat\"].str.count(\"{NUM}\")\n",
    "\n",
    "promo_pat.query(\n",
    "    \"amt + pct + num == 2 and amt != 2 and pct != 2\",\n",
    "    inplace=True,\n",
    ")\n",
    "\n",
    "cnt = promo_pat.query(\n",
    "    \"amt + pct == 2 and num != 2 and \"\n",
    "    \"pat.str.contains('{AMT}.*{PCT}')\"\n",
    ").shape[0]\n",
    "print(f\"Total of {cnt:,} promotions with AMT and PCT\")\n",
    "\n",
    "cnt = promo_pat.query(\n",
    "    \"amt + num == 2 and num != 2 and \"\n",
    "    \"pat.str.contains('{NUM}[\\w\\s]*{AMT}$')\"\n",
    ").shape[0]\n",
    "print(f\"Total of {cnt:,} promotions with AMT and NUM\")\n",
    "\n",
    "cnt = promo_pat.query(\n",
    "    \"pct + num == 2 and num != 2 and \"\n",
    "    \"pat.str.contains('{NUM}(?!nd)[\\w\\s]*{PCT}') or \"\n",
    "    \"pat.str.contains('{NUM}nd[\\w\\s]*{PCT}')\"\n",
    ").shape[0]\n",
    "print(f\"Total of {cnt:,} promotions with PCT and NUM\")\n",
    "\n",
    "cnt = promo_pat.query(\n",
    "    \"num == 2 and \"\n",
    "    \"pat.str.contains('buy{NUM}get{NUM}')\"\n",
    ").shape[0]\n",
    "print(f\"Total of {cnt:,} promotions with 2 NUM\")"
   ]
  }
 ],
 "metadata": {
  "kernelspec": {
   "display_name": "Python 3 (ipykernel)",
   "language": "python",
   "name": "python3"
  },
  "language_info": {
   "codemirror_mode": {
    "name": "ipython",
    "version": 3
   },
   "file_extension": ".py",
   "mimetype": "text/x-python",
   "name": "python",
   "nbconvert_exporter": "python",
   "pygments_lexer": "ipython3",
   "version": "3.10.12"
  }
 },
 "nbformat": 4,
 "nbformat_minor": 5
}
