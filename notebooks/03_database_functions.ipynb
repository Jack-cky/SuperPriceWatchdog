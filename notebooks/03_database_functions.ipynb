{
 "cells": [
  {
   "cell_type": "code",
   "execution_count": null,
   "id": "8c8c1a7d-32c4-4de8-b90c-68ff2e6fc931",
   "metadata": {},
   "outputs": [],
   "source": [
    "import json\n",
    "import os\n",
    "\n",
    "import polars as pl\n",
    "from dotenv import load_dotenv\n",
    "from supabase import create_client\n",
    "from supabase.client import ClientOptions\n",
    "\n",
    "\n",
    "load_dotenv(\"../config/.env\")"
   ]
  },
  {
   "cell_type": "code",
   "execution_count": null,
   "id": "99882619-500e-455f-98d1-de1063e084a6",
   "metadata": {},
   "outputs": [],
   "source": [
    "df_item = pl.read_parquet(\"../data/cleansed/items.parquet\")\n",
    "df_price = pl.read_parquet(\"../data/cleansed/prices.parquet\")"
   ]
  },
  {
   "cell_type": "code",
   "execution_count": null,
   "id": "6e264041-fbe5-40bf-ac78-40da282e7d20",
   "metadata": {},
   "outputs": [],
   "source": [
    "url = os.getenv(\"SUPABASE_URL\")\n",
    "key = os.getenv(\"SUPABASE_KEY\")\n",
    "schema = os.getenv(\"SUPABASE_SCHEMA\")\n",
    "client = create_client(url, key, ClientOptions(schema=schema))"
   ]
  },
  {
   "cell_type": "markdown",
   "id": "921d6f03-0f52-470d-80bf-e4e24a9f34f3",
   "metadata": {},
   "source": [
    "#### Insert Data"
   ]
  },
  {
   "cell_type": "code",
   "execution_count": null,
   "id": "fe91f545-34b9-4545-b64f-7130ea61bba7",
   "metadata": {},
   "outputs": [],
   "source": [
    "data = df_price.write_json()\n",
    "data = json.loads(data)\n",
    "\n",
    "client.table(\"prices\").insert(data).execute()"
   ]
  },
  {
   "cell_type": "markdown",
   "id": "b2b94bfe-4b8b-4545-89a8-b9be41c60e03",
   "metadata": {},
   "source": [
    "#### Delete Data"
   ]
  },
  {
   "cell_type": "code",
   "execution_count": null,
   "id": "b81eb7bf-77fb-46d0-b87f-180c91fb4cac",
   "metadata": {},
   "outputs": [],
   "source": [
    "client.table(\"prices\").delete().in_(\"effective_date\", [\"20240101\"]).execute()"
   ]
  },
  {
   "cell_type": "markdown",
   "id": "96b17f81-b0b6-459e-a40b-aab1441d833c",
   "metadata": {},
   "source": [
    "#### Call Functions"
   ]
  },
  {
   "cell_type": "code",
   "execution_count": null,
   "id": "3dfe465e-49a5-4823-b3bd-5bebaf6f68e8",
   "metadata": {},
   "outputs": [],
   "source": [
    "client.rpc(\"check_connection\").execute()"
   ]
  },
  {
   "cell_type": "code",
   "execution_count": null,
   "id": "19d781a9-07d2-471e-a24f-4882e946390b",
   "metadata": {},
   "outputs": [],
   "source": [
    "client.rpc(\"remove_user\", {\"usr_id\": 1}).execute()"
   ]
  }
 ],
 "metadata": {
  "kernelspec": {
   "display_name": "Python 3 (ipykernel)",
   "language": "python",
   "name": "python3"
  },
  "language_info": {
   "codemirror_mode": {
    "name": "ipython",
    "version": 3
   },
   "file_extension": ".py",
   "mimetype": "text/x-python",
   "name": "python",
   "nbconvert_exporter": "python",
   "pygments_lexer": "ipython3",
   "version": "3.10.14"
  }
 },
 "nbformat": 4,
 "nbformat_minor": 5
}
