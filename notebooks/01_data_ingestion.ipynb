{
 "cells": [
  {
   "cell_type": "code",
   "execution_count": null,
   "id": "01befd15-c8c1-46dd-bf76-5c77268fd42f",
   "metadata": {},
   "outputs": [],
   "source": [
    "from datetime import datetime, timedelta\n",
    "\n",
    "import polars as pl\n",
    "import requests"
   ]
  },
  {
   "cell_type": "markdown",
   "id": "6c2c8d3d-e63d-470d-9634-38dd96811d45",
   "metadata": {},
   "source": [
    "#### Fetch OPW Version"
   ]
  },
  {
   "cell_type": "code",
   "execution_count": null,
   "id": "04305a6c-3f54-49e9-a513-5082e3e698c4",
   "metadata": {},
   "outputs": [],
   "source": [
    "dt_end = datetime.today() - timedelta(days=1)\n",
    "\n",
    "url = (\n",
    "    \"https://api.data.gov.hk/v1/historical-archive/list-file-versions?\"\n",
    "    \"url=https://online-price-watch.consumer.org.hk/opw/opendata/pricewatch.json&\"\n",
    "    \"start={}&end={}&\"\n",
    ")\n",
    "\n",
    "versions = []"
   ]
  },
  {
   "cell_type": "code",
   "execution_count": null,
   "id": "c13b8728-e23e-418d-b8bc-2cb835d7c002",
   "metadata": {},
   "outputs": [],
   "source": [
    "for delta in range(0, 30, 10):\n",
    "    end = dt_end - timedelta(days=delta)\n",
    "    start = end - timedelta(days=9)\n",
    "    start_end = start.strftime(\"%Y%m%d\"), end.strftime(\"%Y%m%d\")\n",
    "\n",
    "    response = requests.get(url.format(*start_end))\n",
    "    response.raise_for_status()\n",
    "\n",
    "    data = response.json()\n",
    "    versions += data.get(\"timestamps\", [])\n",
    "\n",
    "date_version = dict(\n",
    "    pl.DataFrame({\"version\": versions})\n",
    "    .with_columns(\n",
    "        pl.col(\"version\").str.slice(0, 8)\n",
    "            .str.to_date(\"%Y%m%d\")\n",
    "            .alias(\"date\")\n",
    "    )\n",
    "    .with_columns(\n",
    "        (pl.col(\"date\") - pl.duration(days=1))\n",
    "            .dt.strftime(\"%Y%m%d\")\n",
    "    )\n",
    "    .select(\"date\", \"version\")\n",
    "    .iter_rows()\n",
    ")"
   ]
  },
  {
   "cell_type": "markdown",
   "id": "8772eb58-c56c-4d32-a85f-49f700e38f6e",
   "metadata": {},
   "source": [
    "#### Download OPW Data"
   ]
  },
  {
   "cell_type": "code",
   "execution_count": null,
   "id": "19e14961-b660-4be4-ae1c-99c9bc3643bd",
   "metadata": {},
   "outputs": [],
   "source": [
    "url = (\n",
    "    \"https://api.data.gov.hk/v1/historical-archive/get-file?\"\n",
    "    \"url=https://online-price-watch.consumer.org.hk/opw/opendata/pricewatch.json&\"\n",
    "    \"time={}&\"\n",
    ")\n",
    "\n",
    "prices, items = [], []"
   ]
  },
  {
   "cell_type": "code",
   "execution_count": null,
   "id": "6f3a07a8-b70e-4365-aa8b-1f64de52ed75",
   "metadata": {},
   "outputs": [],
   "source": [
    "for date, version in date_version.items():\n",
    "    response = requests.get(url.format(version))\n",
    "    response.raise_for_status()\n",
    "    data = response.json()\n",
    "\n",
    "    for item in data:\n",
    "        item[\"code\"] = str(item[\"code\"]).upper()\n",
    "        code = item[\"code\"]\n",
    "\n",
    "        price = item.pop(\"prices\", [])\n",
    "        offer = item.pop(\"offers\", [])\n",
    "\n",
    "        smkt_price = {p[\"supermarketCode\"]: p for p in price}\n",
    "        smkt_offer = {o[\"supermarketCode\"]: o for o in offer}\n",
    "\n",
    "        price = [\n",
    "            {\n",
    "                \"code\": code, \"date\": date,\n",
    "                **smkt_price.get(smkt, {}), **smkt_offer.get(smkt, {}),\n",
    "            }\n",
    "            for smkt in set(smkt_price) | set(smkt_offer)\n",
    "        ]\n",
    "\n",
    "        prices += price\n",
    "        items.append(item)\n",
    "\n",
    "df_item = pl.json_normalize(items)\n",
    "df_price = pl.from_records(prices)"
   ]
  },
  {
   "cell_type": "code",
   "execution_count": null,
   "id": "a2a69b2e-4ff5-4914-a91a-ddc902bb10f1",
   "metadata": {},
   "outputs": [],
   "source": [
    "df_item.write_parquet(\"../data/raw/items.parquet\")\n",
    "df_price.write_parquet(\"../data/raw/prices.parquet\")"
   ]
  }
 ],
 "metadata": {
  "kernelspec": {
   "display_name": "Python 3 (ipykernel)",
   "language": "python",
   "name": "python3"
  },
  "language_info": {
   "codemirror_mode": {
    "name": "ipython",
    "version": 3
   },
   "file_extension": ".py",
   "mimetype": "text/x-python",
   "name": "python",
   "nbconvert_exporter": "python",
   "pygments_lexer": "ipython3",
   "version": "3.10.14"
  }
 },
 "nbformat": 4,
 "nbformat_minor": 5
}
