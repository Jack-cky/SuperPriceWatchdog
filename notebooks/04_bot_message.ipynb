{
 "cells": [
  {
   "cell_type": "code",
   "execution_count": null,
   "id": "fbc926c4-2770-4db4-bccf-ed5da1a7d5c6",
   "metadata": {},
   "outputs": [],
   "source": [
    "import json\n",
    "import os\n",
    "\n",
    "import requests\n",
    "from dotenv import load_dotenv\n",
    "\n",
    "\n",
    "load_dotenv(\"../config/.env\")"
   ]
  },
  {
   "cell_type": "code",
   "execution_count": null,
   "id": "9e01b8ec-adbc-458f-bb08-3c46bbfa8d0d",
   "metadata": {},
   "outputs": [],
   "source": [
    "chat_id = os.getenv(\"TELEGRAM_TESTER_ID\")\n",
    "token = os.getenv(\"TELEGRAM_TOKEN\")\n",
    "url_base = f\"https://api.telegram.org/bot{token}\"\n",
    "url_msg = f\"{url_base}/sendMessage\"\n",
    "url_img = f\"{url_base}/sendPhoto\"\n",
    "url_edit = f\"{url_base}/editMessageText\""
   ]
  },
  {
   "cell_type": "markdown",
   "id": "9ca69d65-3c10-4554-9d5d-21dff984b1aa",
   "metadata": {},
   "source": [
    "#### Send Message"
   ]
  },
  {
   "cell_type": "code",
   "execution_count": null,
   "id": "82c5198f-391a-4a6c-bb7c-5fc23f15bacb",
   "metadata": {},
   "outputs": [],
   "source": [
    "data = {\n",
    "    \"chat_id\": chat_id,\n",
    "    \"text\": \"I'm here to save your money! 🐶\",\n",
    "}\n",
    "\n",
    "requests.get(url_msg, data).json()"
   ]
  },
  {
   "cell_type": "markdown",
   "id": "cb673f20-d487-4d90-bed4-767c0d959221",
   "metadata": {},
   "source": [
    "#### Send Image"
   ]
  },
  {
   "cell_type": "code",
   "execution_count": null,
   "id": "50db01a7-c0db-4957-87eb-9b6212396165",
   "metadata": {},
   "outputs": [],
   "source": [
    "img = open(\"test.png\", \"rb\")\n",
    "\n",
    "data = {\n",
    "    \"chat_id\": chat_id,\n",
    "}\n",
    "\n",
    "files = {\n",
    "    \"photo\": img,\n",
    "}\n",
    "\n",
    "requests.post(url_img, data, files=files).json()"
   ]
  },
  {
   "cell_type": "markdown",
   "id": "9c7aa3bc-c136-4efe-9f0a-7533e28e2144",
   "metadata": {},
   "source": [
    "#### Send Inline Keyboard"
   ]
  },
  {
   "cell_type": "code",
   "execution_count": null,
   "id": "33374a64-5c6a-4b52-9ebe-e81335e8ec8e",
   "metadata": {},
   "outputs": [],
   "source": [
    "keyboard = json.dumps({\n",
    "    \"inline_keyboard\": [\n",
    "        [\n",
    "            {\"text\": \"watchdog\", \"callback_data\": \"edit_watchdog\"},\n",
    "            {\"text\": \"subscription\", \"callback_data\": \"edit_sub\"},\n",
    "        ],\n",
    "        [\n",
    "            {\"text\": \"setting\", \"callback_data\": \"edit_setting\"},\n",
    "            {\"text\": \"nothing\", \"callback_data\": \"nothing\"},\n",
    "        ],\n",
    "    ]\n",
    "})\n",
    "\n",
    "data = {\n",
    "    \"chat_id\": chat_id,\n",
    "    \"text\": \"helping you\",\n",
    "    \"parse_mode\": \"HTML\",\n",
    "    \"reply_markup\": keyboard,\n",
    "}\n",
    "\n",
    "requests.post(url_msg, data).json()"
   ]
  },
  {
   "cell_type": "markdown",
   "id": "6131b846-db51-4c28-bb60-16d5741b0d21",
   "metadata": {},
   "source": [
    "#### Edit Inline Keyboard"
   ]
  },
  {
   "cell_type": "code",
   "execution_count": null,
   "id": "e54a6205-d080-4d0c-aaad-d10e90a8a340",
   "metadata": {},
   "outputs": [],
   "source": [
    "keyboard = json.dumps({\n",
    "    \"inline_keyboard\": [[]]\n",
    "})\n",
    "\n",
    "data = {\n",
    "    \"chat_id\": chat_id,\n",
    "    \"message_id\": 288,\n",
    "    \"text\": \"helping you\",\n",
    "    \"parse_mode\": \"HTML\",\n",
    "    \"reply_markup\": keyboard,\n",
    "}\n",
    "\n",
    "requests.post(url_edit, data).json()"
   ]
  },
  {
   "cell_type": "markdown",
   "id": "7f3ca415-61b8-459d-9e85-d84b79f8bee9",
   "metadata": {},
   "source": [
    "#### Remove Keyboard"
   ]
  },
  {
   "cell_type": "code",
   "execution_count": null,
   "id": "33c49f81-155c-450a-b797-311503983819",
   "metadata": {},
   "outputs": [],
   "source": [
    "data = {\n",
    "    \"chat_id\": chat_id,\n",
    "    \"text\": \"Here is a message with the keyboard removed.\",\n",
    "    \"reply_markup\": {\n",
    "        \"remove_keyboard\": True,\n",
    "    },\n",
    "}\n",
    "\n",
    "response = requests.post(url_msg, json=data)"
   ]
  }
 ],
 "metadata": {
  "kernelspec": {
   "display_name": "Python 3 (ipykernel)",
   "language": "python",
   "name": "python3"
  },
  "language_info": {
   "codemirror_mode": {
    "name": "ipython",
    "version": 3
   },
   "file_extension": ".py",
   "mimetype": "text/x-python",
   "name": "python",
   "nbconvert_exporter": "python",
   "pygments_lexer": "ipython3",
   "version": "3.10.14"
  }
 },
 "nbformat": 4,
 "nbformat_minor": 5
}
